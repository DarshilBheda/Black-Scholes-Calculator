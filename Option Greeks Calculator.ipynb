{
 "cells": [
  {
   "cell_type": "code",
   "execution_count": 106,
   "id": "e56026e4",
   "metadata": {},
   "outputs": [],
   "source": [
    "from pandas_datareader import data as pdr\n",
    "from yahoo_fin import stock_info as si\n",
    "from yahoo_fin import options as oi\n",
    "from pandas import ExcelWriter\n",
    "from scipy.stats import norm\n",
    "import yfinance as yf\n",
    "import pandas as pd\n",
    "import numpy as np\n",
    "\n",
    "import datetime\n",
    "import time\n",
    "import ssl\n",
    "\n",
    "ssl._create_default_https_context = ssl._create_unverified_context\n",
    "yf.pdr_override()"
   ]
  },
  {
   "cell_type": "code",
   "execution_count": 110,
   "id": "44fbfcf6",
   "metadata": {},
   "outputs": [],
   "source": [
    "tickers = \"AMZN\""
   ]
  },
  {
   "cell_type": "code",
   "execution_count": 3,
   "id": "e644b8f0",
   "metadata": {},
   "outputs": [
    {
     "name": "stdout",
     "output_type": "stream",
     "text": [
      "[*********************100%***********************]  1 of 1 completed\n"
     ]
    },
    {
     "data": {
      "text/plain": [
       "Date\n",
       "1987-05-11    0.000536\n",
       "1987-08-10    0.000536\n",
       "1987-11-17    0.000714\n",
       "1988-02-12    0.000714\n",
       "1988-05-16    0.000714\n",
       "                ...   \n",
       "2020-11-06    0.205000\n",
       "2021-02-05    0.205000\n",
       "2021-05-07    0.220000\n",
       "2021-08-06    0.220000\n",
       "2021-11-05    0.220000\n",
       "Name: Dividends, Length: 73, dtype: float64"
      ]
     },
     "execution_count": 3,
     "metadata": {},
     "output_type": "execute_result"
    }
   ],
   "source": [
    "# Assume No Dividends between now and option expiry date\n",
    "\n",
    "# df = pdr.get_data_yahoo(tickers_1, start_date, end_date)\n",
    "# dividends = yf.Ticker(tickers_1).dividends\n",
    "# dividends"
   ]
  },
  {
   "cell_type": "code",
   "execution_count": 111,
   "id": "f4998671",
   "metadata": {},
   "outputs": [],
   "source": [
    "# Risk Free Rate, r\n",
    "r = 0.014\n",
    "\n",
    "# 1. Stock Data\n",
    "\n",
    "# 1a. Current Stock Price, S\n",
    "S = si.get_live_price(ticker)\n",
    "\n",
    "# 1b. Volatility Rate, sigma\n",
    "start_date = datetime.datetime.now() - datetime.timedelta(days=365)\n",
    "end_date = datetime.date.today()\n",
    "stock_data = si.get_data(ticker, start_date, end_date)\n",
    "stock_data['Percent Change'] = 1 + stock_data['adjclose'].pct_change() \n",
    "stock_data['r_i'] = np.log(stock_data['Percent Change'])\n",
    "\n",
    "r_hat = np.mean(stock_data['r_i'])\n",
    "stock_data['(r_i - r_hat)^2'] = np.power((stock_data['r_i'] - r_hat), 2)\n",
    "\n",
    "sigma = np.sum(stock_data['(r_i - r_hat)^2']) / (len(stock_data) - 2)\n",
    "\n",
    "# 2. Option Data\n",
    "options_data = oi.get_calls(ticker)\n",
    "options_data = options_data[options_data['Strike'].between(0.8*S, 1.2*S)]\n",
    "\n",
    "# 2a. Strike Price, K\n",
    "K = options_data['Strike']\n",
    "\n",
    "# 2b. Time until Expiration, T\n",
    "exp_year = int(options_data['Contract Name'].iloc[0][len(ticker) : len(ticker) + 2]) + 2000\n",
    "exp_month = int(options_data['Contract Name'].iloc[0][len(ticker) + 2: len(ticker) + 4])\n",
    "exp_day = int(options_data['Contract Name'].iloc[0][len(ticker) + 4: len(ticker) + 6])\n",
    "\n",
    "buy_date = datetime.datetime.now()\n",
    "exp_date = datetime.datetime(exp_year, exp_month, exp_day, 16, 0, 0)\n",
    "T = exp_date - buy_date\n",
    "T = (T.days + T.seconds/(60*60*24))/365.25"
   ]
  },
  {
   "cell_type": "code",
   "execution_count": 112,
   "id": "1a61fe94",
   "metadata": {},
   "outputs": [],
   "source": [
    "# Calculate Call Price\n",
    "\n",
    "d1 = (np.log(S / K) + ((r + (np.power(sigma, 2)/2))*T))/(sigma*np.power(T,0.5))\n",
    "d2 = d1 - sigma*np.power(T, 0.5)\n",
    "\n",
    "C = S*norm.cdf(d1) - K*np.exp(-r * T)*norm.cdf(d2)\n",
    "options_data['BS_Price'] = C"
   ]
  },
  {
   "cell_type": "code",
   "execution_count": 89,
   "id": "dc9a3776",
   "metadata": {},
   "outputs": [
    {
     "data": {
      "text/plain": [
       "0.0002542442191197333"
      ]
     },
     "execution_count": 89,
     "metadata": {},
     "output_type": "execute_result"
    }
   ],
   "source": [
    "options_data"
   ]
  }
 ],
 "metadata": {
  "kernelspec": {
   "display_name": "Python 3",
   "language": "python",
   "name": "python3"
  },
  "language_info": {
   "codemirror_mode": {
    "name": "ipython",
    "version": 3
   },
   "file_extension": ".py",
   "mimetype": "text/x-python",
   "name": "python",
   "nbconvert_exporter": "python",
   "pygments_lexer": "ipython3",
   "version": "3.8.8"
  }
 },
 "nbformat": 4,
 "nbformat_minor": 5
}
