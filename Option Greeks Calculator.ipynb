{
 "cells": [
  {
   "cell_type": "code",
   "execution_count": 44,
   "id": "cb731859",
   "metadata": {},
   "outputs": [],
   "source": [
    "from pandas_datareader import data as pdr\n",
    "from yahoo_fin import stock_info as si\n",
    "from yahoo_fin import options as oi\n",
    "from pandas import ExcelWriter\n",
    "import yfinance as yf\n",
    "import pandas as pd\n",
    "import numpy as pi\n",
    "import datetime\n",
    "import time\n",
    "import ssl\n",
    "\n",
    "ssl._create_default_https_context = ssl._create_unverified_context\n",
    "yf.pdr_override()"
   ]
  },
  {
   "cell_type": "code",
   "execution_count": 11,
   "id": "6be9dda2",
   "metadata": {},
   "outputs": [],
   "source": [
    "tickers_1 = \"AAPL\"\n",
    "tickers_2 = [\"AAPL\",\"AMZN\"]\n",
    "start_date = datetime.datetime.now() - datetime.timedelta(days=365)\n",
    "end_date = datetime.date.today()"
   ]
  },
  {
   "cell_type": "code",
   "execution_count": 61,
   "id": "e09972ab",
   "metadata": {},
   "outputs": [
    {
     "name": "stdout",
     "output_type": "stream",
     "text": [
      "[*********************100%***********************]  1 of 1 completed\n"
     ]
    },
    {
     "data": {
      "text/plain": [
       "array([0.000536, 0.000536, 0.000714, 0.000714, 0.000714, 0.000714,\n",
       "       0.000893, 0.000893, 0.000893, 0.000893, 0.000982, 0.000982,\n",
       "       0.000982, 0.000982, 0.001071, 0.001071, 0.001071, 0.001071,\n",
       "       0.001071, 0.001071, 0.001071, 0.001071, 0.001071, 0.001071,\n",
       "       0.001071, 0.001071, 0.001071, 0.001071, 0.001071, 0.001071,\n",
       "       0.001071, 0.001071, 0.001071, 0.001071, 0.001071, 0.094643,\n",
       "       0.094643, 0.094643, 0.108929, 0.108929, 0.108929, 0.108929,\n",
       "       0.1175  , 0.1175  , 0.1175  , 0.1175  , 0.13    , 0.13    ,\n",
       "       0.13    , 0.13    , 0.1425  , 0.1425  , 0.1425  , 0.1425  ,\n",
       "       0.1575  , 0.1575  , 0.1575  , 0.1575  , 0.1825  , 0.1825  ,\n",
       "       0.1825  , 0.1825  , 0.1925  , 0.1925  , 0.1925  , 0.1925  ,\n",
       "       0.205   , 0.205   , 0.205   , 0.205   , 0.22    , 0.22    ,\n",
       "       0.22    ])"
      ]
     },
     "execution_count": 61,
     "metadata": {},
     "output_type": "execute_result"
    }
   ],
   "source": [
    "df = pdr.get_data_yahoo(tickers_1, start_date, end_date)\n",
    "dividends = yf.Ticker(tickers_1).dividends\n",
    "dividends"
   ]
  },
  {
   "cell_type": "code",
   "execution_count": 63,
   "id": "56925df5",
   "metadata": {},
   "outputs": [
    {
     "data": {
      "text/plain": [
       "Timedelta('91 days 00:00:00')"
      ]
     },
     "execution_count": 63,
     "metadata": {},
     "output_type": "execute_result"
    }
   ],
   "source": []
  },
  {
   "cell_type": "code",
   "execution_count": 10,
   "id": "57eeb474",
   "metadata": {},
   "outputs": [
    {
     "name": "stdout",
     "output_type": "stream",
     "text": [
      "[*********************100%***********************]  1 of 1 completed\n",
      "Date\n",
      "1987-05-11    0.000536\n",
      "1987-08-10    0.000536\n",
      "1987-11-17    0.000714\n",
      "1988-02-12    0.000714\n",
      "1988-05-16    0.000714\n",
      "                ...   \n",
      "2020-11-06    0.205000\n",
      "2021-02-05    0.205000\n",
      "2021-05-07    0.220000\n",
      "2021-08-06    0.220000\n",
      "2021-11-05    0.220000\n",
      "Name: Dividends, Length: 73, dtype: float64\n",
      "[*********************100%***********************]  1 of 1 completed\n",
      "Series([], Name: Dividends, dtype: int64)\n"
     ]
    }
   ],
   "source": [
    "for ticker in tickers:\n",
    "    df = pdr.get_data_yahoo(ticker, start_date, end_date)\n",
    "    print(yf.Ticker(ticker).dividends)"
   ]
  },
  {
   "cell_type": "code",
   "execution_count": null,
   "id": "07b2e1e4",
   "metadata": {},
   "outputs": [],
   "source": []
  }
 ],
 "metadata": {
  "kernelspec": {
   "display_name": "Python 3",
   "language": "python",
   "name": "python3"
  },
  "language_info": {
   "codemirror_mode": {
    "name": "ipython",
    "version": 3
   },
   "file_extension": ".py",
   "mimetype": "text/x-python",
   "name": "python",
   "nbconvert_exporter": "python",
   "pygments_lexer": "ipython3",
   "version": "3.8.8"
  }
 },
 "nbformat": 4,
 "nbformat_minor": 5
}
